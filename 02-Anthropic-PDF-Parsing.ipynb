{
 "cells": [
  {
   "cell_type": "code",
   "execution_count": 1,
   "metadata": {},
   "outputs": [],
   "source": [
    "# !pip install -qU anthropic langchain-teddynote"
   ]
  },
  {
   "cell_type": "markdown",
   "metadata": {},
   "source": [
    "## Anthropic PDF Assistant\n",
    "\n",
    "- 참고 링크: https://docs.anthropic.com/en/docs/build-with-claude/pdf-support\n",
    "- API 키 발급: https://console.anthropic.com/settings/keys"
   ]
  },
  {
   "cell_type": "code",
   "execution_count": 1,
   "metadata": {},
   "outputs": [
    {
     "data": {
      "text/plain": [
       "True"
      ]
     },
     "execution_count": 1,
     "metadata": {},
     "output_type": "execute_result"
    }
   ],
   "source": [
    "from dotenv import load_dotenv\n",
    "\n",
    "load_dotenv()"
   ]
  },
  {
   "cell_type": "markdown",
   "metadata": {},
   "source": [
    "## 셋업\n",
    "\n",
    "- `pdf_path` : PDF 파일 경로\n",
    "- `use_prompt_cache` : prompt 캐시 사용 여부(True, False). 사용하는 것을 권장합니다.\n",
    "\n",
    "**configs**\n",
    "\n",
    "- `model` : 사용할 모델 이름\n",
    "- `ANTHROPIC_API_KEY` : Anthropic API 키"
   ]
  },
  {
   "cell_type": "code",
   "execution_count": 2,
   "metadata": {},
   "outputs": [],
   "source": [
    "import os\n",
    "\n",
    "from langchain_teddynote.models import AnthropicPDFAssistant\n",
    "\n",
    "api_key = os.getenv(\"ANTHROPIC_API_KEY\")\n",
    "\n",
    "configs = {\n",
    "    \"ANTHROPIC_API_KEY\": api_key,\n",
    "    \"model\": \"claude-3-5-sonnet-20241022\",\n",
    "}\n",
    "\n",
    "# PDF 파일 경로(로컬 PC)\n",
    "pdf_path = \"SPRI_AI_Brief_2023년12월호_F.pdf\"\n",
    "\n",
    "# PDF 파일 경로(URL)\n",
    "# pdf_path = \"https://arxiv.org/pdf/1706.03762\"\n",
    "\n",
    "# prompt 캐시 사용 여부(True, False)\n",
    "assistant = AnthropicPDFAssistant(configs, pdf_path, use_prompt_cache=True)"
   ]
  },
  {
   "cell_type": "markdown",
   "metadata": {},
   "source": [
    "## 일반 호출\n",
    "\n",
    "**옵션**\n",
    "\n",
    "- `token_info=False` : 토큰 사용량 정보 생략\n",
    "- `token_info=True` : 토큰 사용량 정보 포함\n"
   ]
  },
  {
   "cell_type": "code",
   "execution_count": null,
   "metadata": {},
   "outputs": [],
   "source": [
    "query = \"삼성전자가 개발한 생성형 AI 기술은 무엇인가요?\"\n",
    "\n",
    "# 호출\n",
    "response = assistant.invoke(query)\n",
    "\n",
    "# 결과출력\n",
    "print(response[\"content\"])"
   ]
  },
  {
   "cell_type": "markdown",
   "metadata": {},
   "source": [
    "multi-turn 대화 지원"
   ]
  },
  {
   "cell_type": "code",
   "execution_count": null,
   "metadata": {},
   "outputs": [],
   "source": [
    "query = \"이전의 답변을 영어로 번역해줘\"\n",
    "\n",
    "# 호출\n",
    "response = assistant.invoke(query)\n",
    "\n",
    "# 결과출력\n",
    "print(response[\"content\"])"
   ]
  },
  {
   "cell_type": "markdown",
   "metadata": {},
   "source": [
    "토큰 정보를 포함하여 호출하려는 경우\n"
   ]
  },
  {
   "cell_type": "code",
   "execution_count": 4,
   "metadata": {},
   "outputs": [
    {
     "name": "stdout",
     "output_type": "stream",
     "text": [
      "삼성전자가 개발한 생성형 AI '삼성 가우스'의 주요 특징은 다음과 같습니다:\n",
      "\n",
      "1. 3개 모델 구성\n",
      "- 언어모델: 클라우드와 온디바이스 대상 다양한 모델로 구성되며, 메일 작성, 문서 요약, 번역 업무 처리 지원\n",
      "- 코드모델: AI 코딩 어시스턴트 '코드아이(code.i)'로 대화형 인터페이스를 제공하며 사내 소프트웨어 개발에 최적화\n",
      "- 이미지모델: 창의적인 이미지를 생성하고 기존 이미지를 원하는 대로 바꿀 수 있으며, 저해상도 이미지의 고해상도 전환 지원\n",
      "\n",
      "2. 주요 특징\n",
      "- 온디바이스 작동: 기기 내에서 직접 작동하도록 설계되어 외부로 사용자 정보가 유출되지 않음\n",
      "- 안전한 데이터 활용: 라이선스나 개인정보를 침해하지 않는 안전한 데이터로 학습\n",
      "- 유연한 모델 선택: 정규분포 이론을 정립한 천재 수학자 가우스의 이름을 본떠 다양한 상황에 최적화된 크기의 모델 선택 가능\n",
      "\n",
      "3. 향후 계획\n",
      "- 삼성전자는 삼성 가우스를 다양한 제품에 단계적으로 탑재할 계획\n",
      "- 온디바이스 AI 기술을 활용한 다양한 적용 방안 모색\n",
      "\n",
      "이는 삼성전자가 자체 생성형 AI 개발을 통해 기술 경쟁력을 확보하고 제품 경쟁력을 강화하려는 전략의 일환입니다.\n",
      "\n",
      "토큰 사용 통계\n",
      "----------------------------------------\n",
      "Cache Creation Input Tokens    : 0\n",
      "Cache Read Input Tokens        : 60,911\n",
      "Input Tokens                   : 576\n",
      "Output Tokens                  : 593\n",
      "----------------------------------------\n"
     ]
    }
   ],
   "source": [
    "query = \"삼성전자가 개발한 생성형 AI 기술은 무엇인가요?\"\n",
    "\n",
    "# 호출\n",
    "response = assistant.invoke(query, token_info=True)\n",
    "\n",
    "# 결과출력\n",
    "print(response[\"content\"])\n",
    "\n",
    "# 토큰 사용량 출력\n",
    "print(AnthropicPDFAssistant.pretty_token_usage(response[\"usage\"]))"
   ]
  },
  {
   "cell_type": "markdown",
   "metadata": {},
   "source": [
    "## 스트리밍 출력\n",
    "\n",
    "**옵션**\n",
    "\n",
    "- `token_info=False` : 토큰 사용량 정보 생략\n",
    "- `token_info=True` : 토큰 사용량 정보 포함\n"
   ]
  },
  {
   "cell_type": "markdown",
   "metadata": {},
   "source": [
    "토큰 정보는 생략하는 경우"
   ]
  },
  {
   "cell_type": "code",
   "execution_count": 5,
   "metadata": {},
   "outputs": [
    {
     "name": "stdout",
     "output_type": "stream",
     "text": [
      "삼성전자가 개발한 생성형 AI '삼성 가우스'는 다음과 같은 특징을 가지고 있습니다:\n",
      "\n",
      "1. 3개 모델 구성\n",
      "- 언어모델: 메일 작성, 문서 요약, 번역 업무의 처리를 지원\n",
      "- 코드모델: '코드아이(code.i)'라는 AI 코딩 어시스턴트로, 대화형 인터페이스로 서비스를 제공하며 사내 소프트웨어 개발에 최적화\n",
      "- 이미지모델: 창의적인 이미지 생성과 기존 이미지 변환, 저해상도 이미지의 고해상도 전환 지원\n",
      "\n",
      "2. 핵심 특징\n",
      "- 온디바이스 작동: 기기에서 직접 작동하도록 설계되어 외부로 사용자 정보가 유출되지 않는 장점 보유\n",
      "- 안전한 데이터: 라이선스나 개인정보를 침해하지 않는 안전한 데이터를 통해 학습\n",
      "- 최적화: 다양한 상황에 최적화된 크기의 모델 선택이 가능\n",
      "\n",
      "삼성전자는 삼성 가우스를 다양한 제품에 단계적으로 탑재할 계획이며, 이를 통해 AI 기술 경쟁력을 강화하고자 합니다."
     ]
    }
   ],
   "source": [
    "query = \"삼성전자가 개발한 생성형 AI 기술은 무엇인가요?\"\n",
    "\n",
    "# 스트리밍 호출\n",
    "for text in assistant.stream(query, token_info=False):\n",
    "    if text[\"type\"] == \"token\":\n",
    "        # 토큰 출력\n",
    "        print(text[\"content\"], end=\"\", flush=True)\n",
    "    elif text[\"type\"] == \"usage\":\n",
    "        # 토큰 사용량 출력\n",
    "        print(text[\"content\"], end=\"\", flush=True)"
   ]
  },
  {
   "cell_type": "code",
   "execution_count": 6,
   "metadata": {},
   "outputs": [
    {
     "name": "stdout",
     "output_type": "stream",
     "text": [
      "Samsung's generative AI 'Samsung Gauss' has the following characteristics:\n",
      "\n",
      "1. Three Model Components\n",
      "- Language Model: Supports email writing, document summarization, and translation tasks\n",
      "- Code Model: An AI coding assistant called 'code.i', providing services through an interactive interface, optimized for internal software development\n",
      "- Image Model: Supports creative image generation, existing image modification, and conversion of low-resolution images to high-resolution\n",
      "\n",
      "2. Key Features\n",
      "- On-device Operation: Designed to operate directly on devices, preventing user information leakage\n",
      "- Secure Data: Trained using safe data that doesn't infringe on licenses or personal information\n",
      "- Optimization: Allows selection of model sizes optimized for various situations\n",
      "\n",
      "Samsung plans to gradually incorporate Samsung Gauss into various products, aiming to strengthen its AI technological competitiveness.\n",
      "\n",
      "This represents Samsung's effort to enhance its competitive edge in AI technology through the development of its own generative AI system."
     ]
    }
   ],
   "source": [
    "query = \"이전의 답변을 영어로\"\n",
    "\n",
    "# 스트리밍 호출\n",
    "for text in assistant.stream(query, token_info=False):\n",
    "    if text[\"type\"] == \"token\":\n",
    "        # 토큰 출력\n",
    "        print(text[\"content\"], end=\"\", flush=True)\n",
    "    elif text[\"type\"] == \"usage\":\n",
    "        # 토큰 사용량 출력\n",
    "        print(text[\"content\"], end=\"\", flush=True)"
   ]
  },
  {
   "cell_type": "markdown",
   "metadata": {},
   "source": [
    "토큰 정보를 포함하여 스트리밍 출력"
   ]
  },
  {
   "cell_type": "code",
   "execution_count": null,
   "metadata": {},
   "outputs": [],
   "source": [
    "query = \"삼성전자가 개발한 생성형 AI 기술은 무엇인가요?\"\n",
    "token_usage = []\n",
    "\n",
    "for text in assistant.stream(query, token_info=True):\n",
    "    if text[\"type\"] == \"token\":\n",
    "        # 토큰 출력\n",
    "        print(text[\"content\"], end=\"\", flush=True)\n",
    "    elif text[\"type\"] == \"usage\":\n",
    "        # 토큰 사용량 저장\n",
    "        token_usage.append(text[\"content\"])"
   ]
  },
  {
   "cell_type": "markdown",
   "metadata": {},
   "source": [
    "토큰 정보만 따로 출력하려는 경우"
   ]
  },
  {
   "cell_type": "code",
   "execution_count": null,
   "metadata": {},
   "outputs": [],
   "source": [
    "for usage in token_usage:\n",
    "    print(AnthropicPDFAssistant.pretty_token_usage(usage))"
   ]
  },
  {
   "cell_type": "markdown",
   "metadata": {},
   "source": [
    "## 새로운 파일로 다시 시작"
   ]
  },
  {
   "cell_type": "code",
   "execution_count": null,
   "metadata": {},
   "outputs": [],
   "source": [
    "query = \"논문의 초록을 요약해줘\"\n",
    "\n",
    "# PDF 파일 경로\n",
    "pdf_path = \"https://arxiv.org/pdf/1706.03762\"\n",
    "\n",
    "# 새로운 파일로 대화 내역 초기화\n",
    "assistant.add_new_pdf(pdf_path)\n",
    "\n",
    "# 호출\n",
    "response = assistant.invoke(query)\n",
    "\n",
    "# 결과출력\n",
    "print(response[\"content\"])"
   ]
  }
 ],
 "metadata": {
  "kernelspec": {
   "display_name": "langchain-teddynote-kRJQKZlm-py3.10",
   "language": "python",
   "name": "python3"
  },
  "language_info": {
   "codemirror_mode": {
    "name": "ipython",
    "version": 3
   },
   "file_extension": ".py",
   "mimetype": "text/x-python",
   "name": "python",
   "nbconvert_exporter": "python",
   "pygments_lexer": "ipython3",
   "version": "3.11.9"
  }
 },
 "nbformat": 4,
 "nbformat_minor": 2
}
